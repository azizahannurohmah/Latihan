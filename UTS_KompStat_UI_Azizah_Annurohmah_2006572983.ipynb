{
  "nbformat": 4,
  "nbformat_minor": 0,
  "metadata": {
    "colab": {
      "name": "UTS_KompStat_UI_Azizah_Annurohmah_2006572983",
      "provenance": []
    },
    "kernelspec": {
      "name": "python3",
      "display_name": "Python 3"
    },
    "language_info": {
      "name": "python"
    }
  },
  "cells": [
    {
      "cell_type": "markdown",
      "metadata": {
        "id": "EoKhQRDaVi7t"
      },
      "source": [
        "\n",
        "\n",
        "**UTS KOMPUTASI STATISTIK**\n",
        "\n",
        "**Nama:** Azizah Annurohmah\n",
        "\n",
        "**NPM:** 2006572983\n",
        "\n",
        "**Kelas:** A (Pak Taufik)"
      ]
    },
    {
      "cell_type": "code",
      "metadata": {
        "colab": {
          "base_uri": "https://localhost:8080/"
        },
        "id": "-_bpczolL8PL",
        "outputId": "8067747a-dc11-44a9-c593-0a8b712052ac"
      },
      "source": [
        "#SOAL A\n",
        "\n",
        "def Greenberger(xo, m, a, c):\n",
        "  return (a*xo + c)%m\n",
        "\n",
        "m = 2**32\n",
        "a = 7\n",
        "c = 5\n",
        "xo = 11\n",
        "N = Greenberger(xo, m, a, c)\n",
        "N"
      ],
      "execution_count": 2,
      "outputs": [
        {
          "output_type": "execute_result",
          "data": {
            "text/plain": [
              "82"
            ]
          },
          "metadata": {},
          "execution_count": 2
        }
      ]
    },
    {
      "cell_type": "code",
      "metadata": {
        "id": "V4x1L2L_jytu"
      },
      "source": [
        "#SOAL B\n",
        "#BAGIAN 1 dan 2\n",
        "\n",
        "import numpy as np\n",
        "from scipy.linalg import svd\n",
        "import matplotlib.pyplot as plt\n",
        "\n",
        "np.random.seed(1)\n",
        "A = np.random.rand(100,30) #bangkitkan random normal\n",
        "U, s, VT = svd(A)\n",
        "\n",
        "\n",
        "z = V[:,0]\n",
        "w = V[:,1]\n",
        "x = U[:,0]\n",
        "y = U[:,1]\n",
        "fig, ax = plt.subplots()\n",
        "ax.scatter(z, w, c='b'*len(z))\n",
        "for i, L in enumarate():\n",
        "  ax,anotate(z[i],w[i])"
      ],
      "execution_count": 11,
      "outputs": []
    },
    {
      "cell_type": "code",
      "metadata": {
        "id": "u4DsND17lGT8"
      },
      "source": [
        "#SOAL B\n",
        "#Bagian 3\n",
        "\n",
        "import numpy as np\n",
        "from scipy.linalg import svd\n",
        "import matplotlib.pyplot as plt\n",
        "\n",
        "np.random.seed(1)\n",
        "A = np.random.rand(100,5) #bangkitkan random normal\n",
        "U, s, VT = svd(A)\n",
        "sigma = np.zeros((A.shape[0], A.shape[1]))\n",
        "sigma[:A.shape[0], :A.shape[0]] = np.diag(s)\n",
        "n_elements = 2\n",
        "sigma = sigma[:,:n_elements]\n",
        "VT = VT[:n_elements,:]\n",
        "B = U.dot(sigm.dot(VT))\n",
        "print(B)\n",
        "T = U.dot(sigma)\n",
        "print(T)\n",
        "T = A.dot(VT.T)\n",
        "print(T)"
      ],
      "execution_count": 13,
      "outputs": []
    },
    {
      "cell_type": "code",
      "metadata": {
        "colab": {
          "base_uri": "https://localhost:8080/",
          "height": 350
        },
        "id": "1Cop49DgpXqn",
        "outputId": "1e4623e3-c5db-4114-ff89-fe56d7e67f3b"
      },
      "source": [
        "#SOAL C\n",
        "\n",
        "from sklearn import mixture\n",
        "import seaborn as sns\n",
        "import matplotlib.pyplot as plt\n",
        "\n",
        "data = sns.load_dataset('tips')\n",
        "data = data[['total_bill','tip','size']].values\n",
        "\n",
        "gmm = mixture.GaussianMixture(n_components=5).fit(data)\n",
        "probs = gmm.predict_proba(data)\n",
        "labels = gmm.predict(data)\n",
        "plt.scatter(data[:,0], data[:,1], c = labels, s = 40, cmap = 'viridis')\n",
        "print(probs[:5].round(3))"
      ],
      "execution_count": 19,
      "outputs": [
        {
          "output_type": "stream",
          "name": "stdout",
          "text": [
            "[[0.    0.    1.    0.    0.   ]\n",
            " [0.999 0.    0.    0.    0.001]\n",
            " [0.688 0.    0.    0.    0.312]\n",
            " [0.    0.    1.    0.    0.   ]\n",
            " [0.418 0.    0.    0.036 0.546]]\n"
          ]
        },
        {
          "output_type": "display_data",
          "data": {
            "image/png": "[encoded data removed]",
            "text/plain": [
              "<Figure size 432x288 with 1 Axes>"
            ]
          },
          "metadata": {
            "needs_background": "light"
          }
        }
      ]
    },
    {
      "cell_type": "code",
      "metadata": {
        "id": "pJ38ejTgqBHF"
      },
      "source": [
        "#lanjutan C\n",
        "\n",
        "n_components = 5\n",
        "models = [mixture.GaussianMixture(n, covariance_type='full', random_state=0).fit(data) for n in n_components]\n",
        "\n",
        "plt.plot(n_components, [m.bic(data) for m in models], labels = 'BIC')\n",
        "plt.plot(n_components, [m.aic(data) for m in models], labels = 'AIC')\n",
        "plt.legend(loc='best')\n",
        "plt.xlabel('n_components');"
      ],
      "execution_count": 20,
      "outputs": []
    }
  ]
}